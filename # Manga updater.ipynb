{
 "cells": [
  {
   "cell_type": "code",
   "execution_count": 2,
   "id": "ba556264",
   "metadata": {},
   "outputs": [],
   "source": [
    "import pandas as pd\n",
    "import numpy as np\n",
    "import matplotlib.pyplot as plt\n",
    "from unicodedata import normalize\n",
    "\n",
    "import os\n",
    "import json\n",
    "import requests\n",
    "from bs4 import BeautifulSoup as bs"
   ]
  },
  {
   "cell_type": "code",
   "execution_count": 3,
   "id": "fb2318cc",
   "metadata": {},
   "outputs": [],
   "source": [
    "url = 'https://manatoki125.net/comic/116795'"
   ]
  },
  {
   "cell_type": "code",
   "execution_count": 21,
   "id": "11f3e440",
   "metadata": {},
   "outputs": [],
   "source": [
    "ff_header = {\n",
    "\t\"Request Headers (876 B)\": {\n",
    "\t\t\"headers\": [\n",
    "\t\t\t{\n",
    "\t\t\t\t\"name\": \"Accept\",\n",
    "\t\t\t\t\"value\": \"text/html,application/xhtml+xml,application/xml;q=0.9,image/avif,image/webp,*/*;q=0.8\"\n",
    "\t\t\t},\n",
    "\t\t\t{\n",
    "\t\t\t\t\"name\": \"Accept-Encoding\",\n",
    "\t\t\t\t\"value\": \"gzip, deflate, br\"\n",
    "\t\t\t},\n",
    "\t\t\t{\n",
    "\t\t\t\t\"name\": \"Accept-Language\",\n",
    "\t\t\t\t\"value\": \"en-GB,en;q=0.5\"\n",
    "\t\t\t},\n",
    "\t\t\t{\n",
    "\t\t\t\t\"name\": \"Alt-Used\",\n",
    "\t\t\t\t\"value\": \"manatoki125.net\"\n",
    "\t\t\t},\n",
    "\t\t\t{\n",
    "\t\t\t\t\"name\": \"Cache-Control\",\n",
    "\t\t\t\t\"value\": \"max-age=0\"\n",
    "\t\t\t},\n",
    "\t\t\t{\n",
    "\t\t\t\t\"name\": \"Connection\",\n",
    "\t\t\t\t\"value\": \"keep-alive\"\n",
    "\t\t\t},\n",
    "\t\t\t{\n",
    "\t\t\t\t\"name\": \"Cookie\",\n",
    "\t\t\t\t\"value\": \"e1192aefb64683cc97abb83c71057733=Y29taWM%3D; PHPSESSID=moknkuun94sfi6m08n7kumvcamcfde9l3mi5elr40s60h1ps69mvcbivadc2dmifj; __cf_bm=mhOJY7veQTBwIE0C.jBwjtVjq.EmAePsfP0ReSdskR0-1647747983-0-Aex/Cz42cRZ/vEGeGNWyXpYKCvKopZEvo3ICkfGdg2KgsrS7eUzWGIEHp5lfFTBnF3f5f7xL87U8wz5WjYG0TMNXpEj/p8sNZPrXN/pGXK0GuD1oWfv8o781QJ/aPjDBDg==\"\n",
    "\t\t\t},\n",
    "\t\t\t{\n",
    "\t\t\t\t\"name\": \"Host\",\n",
    "\t\t\t\t\"value\": \"manatoki125.net\"\n",
    "\t\t\t},\n",
    "\t\t\t{\n",
    "\t\t\t\t\"name\": \"If-Modified-Since\",\n",
    "\t\t\t\t\"value\": \"Sun, 20 Mar 2022 03:58:52 GMT\"\n",
    "\t\t\t},\n",
    "\t\t\t{\n",
    "\t\t\t\t\"name\": \"Sec-Fetch-Dest\",\n",
    "\t\t\t\t\"value\": \"document\"\n",
    "\t\t\t},\n",
    "\t\t\t{\n",
    "\t\t\t\t\"name\": \"Sec-Fetch-Mode\",\n",
    "\t\t\t\t\"value\": \"navigate\"\n",
    "\t\t\t},\n",
    "\t\t\t{\n",
    "\t\t\t\t\"name\": \"Sec-Fetch-Site\",\n",
    "\t\t\t\t\"value\": \"cross-site\"\n",
    "\t\t\t},\n",
    "\t\t\t{\n",
    "\t\t\t\t\"name\": \"Upgrade-Insecure-Requests\",\n",
    "\t\t\t\t\"value\": \"1\"\n",
    "\t\t\t},\n",
    "\t\t\t{\n",
    "\t\t\t\t\"name\": \"User-Agent\",\n",
    "\t\t\t\t\"value\": \"Mozilla/5.0 (Windows NT 10.0; Win64; x64; rv:98.0) Gecko/20100101 Firefox/98.0\"\n",
    "\t\t\t}\n",
    "\t\t]\n",
    "\t}\n",
    "}"
   ]
  },
  {
   "cell_type": "code",
   "execution_count": 22,
   "id": "2cbe6421",
   "metadata": {},
   "outputs": [
    {
     "data": {
      "text/plain": [
       "[Empty DataFrame\n",
       " Columns: [첫회보기 만화목록 74]\n",
       " Index: []]"
      ]
     },
     "execution_count": 22,
     "metadata": {},
     "output_type": "execute_result"
    }
   ],
   "source": [
    "import requests\n",
    "\n",
    "header1 = {\n",
    "  \"User-Agent\": \"Mozilla/5.0 (X11; Linux x86_64) AppleWebKit/537.36 (KHTML, like Gecko) Chrome/50.0.2661.75 Safari/537.36\",\n",
    "  \"X-Requested-With\": \"XMLHttpRequest\"\n",
    "}\n",
    "\n",
    "r = requests.get(url, headers=header)\n",
    "\n",
    "dfs = pd.read_html(r.text)\n",
    "dfs"
   ]
  },
  {
   "cell_type": "code",
   "execution_count": 13,
   "id": "79f6ca5b",
   "metadata": {},
   "outputs": [
    {
     "name": "stdout",
     "output_type": "stream",
     "text": [
      "200\n"
     ]
    }
   ],
   "source": [
    "resp = requests.get(url)\n",
    "print(resp.status_code)\n",
    "soup = bs(resp.content, 'html.parser')\n",
    "soup;"
   ]
  },
  {
   "cell_type": "code",
   "execution_count": 6,
   "id": "2f44c454",
   "metadata": {},
   "outputs": [],
   "source": [
    "def extract_chapter(string):\n",
    "    result = string.strip().split()\n",
    "    for elem in result:\n",
    "        if '화' in elem:\n",
    "            chapter = elem.split('화')[0]\n",
    "            return float(chapter)\n",
    "    return None"
   ]
  },
  {
   "cell_type": "code",
   "execution_count": 45,
   "id": "7d3d0790",
   "metadata": {},
   "outputs": [
    {
     "data": {
      "text/plain": [
       "10.0"
      ]
     },
     "execution_count": 45,
     "metadata": {},
     "output_type": "execute_result"
    }
   ],
   "source": [
    "#test function\n",
    "extract_chapter('26\\n\\n아스미 짱은 레즈풍속에 흥미가 있습니다! 10화 26')"
   ]
  },
  {
   "cell_type": "code",
   "execution_count": 14,
   "id": "fbaababd",
   "metadata": {},
   "outputs": [],
   "source": [
    "data  = pd.DataFrame(columns=['chapter', 'url'])\n",
    "result = soup.find_all('a', class_='item-subject')\n",
    "texts = []\n",
    "for link in result:\n",
    "#     print(link.get('href'), extract_chapter(link.text.strip()))\n",
    "    row_data = {'chapter':extract_chapter(link.text.strip()), 'url':link.get('href')}\n",
    "    data = data.append(row_data, ignore_index=True)"
   ]
  },
  {
   "cell_type": "code",
   "execution_count": 15,
   "id": "b2d066b7",
   "metadata": {},
   "outputs": [
    {
     "data": {
      "text/html": [
       "<div>\n",
       "<style scoped>\n",
       "    .dataframe tbody tr th:only-of-type {\n",
       "        vertical-align: middle;\n",
       "    }\n",
       "\n",
       "    .dataframe tbody tr th {\n",
       "        vertical-align: top;\n",
       "    }\n",
       "\n",
       "    .dataframe thead th {\n",
       "        text-align: right;\n",
       "    }\n",
       "</style>\n",
       "<table border=\"1\" class=\"dataframe\">\n",
       "  <thead>\n",
       "    <tr style=\"text-align: right;\">\n",
       "      <th></th>\n",
       "      <th>chapter</th>\n",
       "      <th>url</th>\n",
       "    </tr>\n",
       "  </thead>\n",
       "  <tbody>\n",
       "    <tr>\n",
       "      <th>0</th>\n",
       "      <td>713.0</td>\n",
       "      <td>https://manatoki125.net/comic/11614170?spage=1</td>\n",
       "    </tr>\n",
       "    <tr>\n",
       "      <th>1</th>\n",
       "      <td>712.0</td>\n",
       "      <td>https://manatoki125.net/comic/11544372?spage=1</td>\n",
       "    </tr>\n",
       "    <tr>\n",
       "      <th>2</th>\n",
       "      <td>711.0</td>\n",
       "      <td>https://manatoki125.net/comic/11476716?spage=1</td>\n",
       "    </tr>\n",
       "    <tr>\n",
       "      <th>3</th>\n",
       "      <td>710.0</td>\n",
       "      <td>https://manatoki125.net/comic/11391867?spage=1</td>\n",
       "    </tr>\n",
       "    <tr>\n",
       "      <th>4</th>\n",
       "      <td>709.0</td>\n",
       "      <td>https://manatoki125.net/comic/11317842?spage=1</td>\n",
       "    </tr>\n",
       "    <tr>\n",
       "      <th>...</th>\n",
       "      <td>...</td>\n",
       "      <td>...</td>\n",
       "    </tr>\n",
       "    <tr>\n",
       "      <th>710</th>\n",
       "      <td>5.0</td>\n",
       "      <td>https://manatoki125.net/comic/261294?spage=1</td>\n",
       "    </tr>\n",
       "    <tr>\n",
       "      <th>711</th>\n",
       "      <td>4.0</td>\n",
       "      <td>https://manatoki125.net/comic/261293?spage=1</td>\n",
       "    </tr>\n",
       "    <tr>\n",
       "      <th>712</th>\n",
       "      <td>3.0</td>\n",
       "      <td>https://manatoki125.net/comic/261292?spage=1</td>\n",
       "    </tr>\n",
       "    <tr>\n",
       "      <th>713</th>\n",
       "      <td>2.0</td>\n",
       "      <td>https://manatoki125.net/comic/261291?spage=1</td>\n",
       "    </tr>\n",
       "    <tr>\n",
       "      <th>714</th>\n",
       "      <td>1.0</td>\n",
       "      <td>https://manatoki125.net/comic/261281?spage=1</td>\n",
       "    </tr>\n",
       "  </tbody>\n",
       "</table>\n",
       "<p>715 rows × 2 columns</p>\n",
       "</div>"
      ],
      "text/plain": [
       "     chapter                                             url\n",
       "0      713.0  https://manatoki125.net/comic/11614170?spage=1\n",
       "1      712.0  https://manatoki125.net/comic/11544372?spage=1\n",
       "2      711.0  https://manatoki125.net/comic/11476716?spage=1\n",
       "3      710.0  https://manatoki125.net/comic/11391867?spage=1\n",
       "4      709.0  https://manatoki125.net/comic/11317842?spage=1\n",
       "..       ...                                             ...\n",
       "710      5.0    https://manatoki125.net/comic/261294?spage=1\n",
       "711      4.0    https://manatoki125.net/comic/261293?spage=1\n",
       "712      3.0    https://manatoki125.net/comic/261292?spage=1\n",
       "713      2.0    https://manatoki125.net/comic/261291?spage=1\n",
       "714      1.0    https://manatoki125.net/comic/261281?spage=1\n",
       "\n",
       "[715 rows x 2 columns]"
      ]
     },
     "execution_count": 15,
     "metadata": {},
     "output_type": "execute_result"
    }
   ],
   "source": [
    "data"
   ]
  },
  {
   "cell_type": "code",
   "execution_count": 16,
   "id": "963be724",
   "metadata": {
    "scrolled": true
   },
   "outputs": [
    {
     "data": {
      "text/plain": [
       "'https://manatoki125.net/comic/116795'"
      ]
     },
     "execution_count": 16,
     "metadata": {},
     "output_type": "execute_result"
    }
   ],
   "source": [
    "#update url\n",
    "url = resp.url\n",
    "url"
   ]
  },
  {
   "cell_type": "code",
   "execution_count": null,
   "id": "6b931111",
   "metadata": {},
   "outputs": [],
   "source": []
  }
 ],
 "metadata": {
  "kernelspec": {
   "display_name": "Python 3",
   "language": "python",
   "name": "python3"
  },
  "language_info": {
   "codemirror_mode": {
    "name": "ipython",
    "version": 3
   },
   "file_extension": ".py",
   "mimetype": "text/x-python",
   "name": "python",
   "nbconvert_exporter": "python",
   "pygments_lexer": "ipython3",
   "version": "3.9.5"
  }
 },
 "nbformat": 4,
 "nbformat_minor": 5
}
